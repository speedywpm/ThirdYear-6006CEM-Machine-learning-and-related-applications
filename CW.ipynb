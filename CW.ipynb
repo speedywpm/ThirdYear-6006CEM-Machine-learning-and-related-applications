{
 "cells": [
  {
   "cell_type": "code",
   "execution_count": 1,
   "id": "198971cb",
   "metadata": {},
   "outputs": [],
   "source": [
    "import pandas as pd\n",
    "import numpy as np\n",
    "import matplotlib.pyplot as plt\n",
    "import seaborn as sns\n",
    "from datetime import datetime\n",
    "from sklearn.preprocessing import LabelEncoder\n",
    "from sklearn.model_selection import train_test_split\n",
    "from sklearn.preprocessing import StandardScaler\n",
    "from sklearn.neighbors import KNeighborsClassifier\n",
    "from sklearn.linear_model import LogisticRegression\n",
    "from sklearn.metrics import accuracy_score, confusion_matrix, classification_report\n",
    "from sklearn.svm import SVC\n",
    "from sklearn.model_selection import cross_val_score\n",
    "from sklearn.neural_network import MLPClassifier\n",
    "import warnings\n",
    "warnings.filterwarnings('ignore')"
   ]
  },
  {
   "cell_type": "code",
   "execution_count": 2,
   "id": "3f24087f",
   "metadata": {},
   "outputs": [
    {
     "name": "stdout",
     "output_type": "stream",
     "text": [
      "<class 'pandas.core.frame.DataFrame'>\n",
      "RangeIndex: 10000 entries, 0 to 9999\n",
      "Data columns (total 19 columns):\n",
      " #   Column               Non-Null Count  Dtype  \n",
      "---  ------               --------------  -----  \n",
      " 0   ID                   10000 non-null  int64  \n",
      " 1   AGE                  10000 non-null  object \n",
      " 2   GENDER               10000 non-null  object \n",
      " 3   RACE                 10000 non-null  object \n",
      " 4   DRIVING_EXPERIENCE   10000 non-null  object \n",
      " 5   EDUCATION            10000 non-null  object \n",
      " 6   INCOME               10000 non-null  object \n",
      " 7   CREDIT_SCORE         9018 non-null   float64\n",
      " 8   VEHICLE_OWNERSHIP    10000 non-null  float64\n",
      " 9   VEHICLE_YEAR         10000 non-null  object \n",
      " 10  MARRIED              10000 non-null  float64\n",
      " 11  CHILDREN             10000 non-null  float64\n",
      " 12  POSTAL_CODE          10000 non-null  int64  \n",
      " 13  ANNUAL_MILEAGE       9043 non-null   float64\n",
      " 14  VEHICLE_TYPE         10000 non-null  object \n",
      " 15  SPEEDING_VIOLATIONS  10000 non-null  int64  \n",
      " 16  DUIS                 10000 non-null  int64  \n",
      " 17  PAST_ACCIDENTS       10000 non-null  int64  \n",
      " 18  OUTCOME              10000 non-null  float64\n",
      "dtypes: float64(6), int64(5), object(8)\n",
      "memory usage: 1.4+ MB\n"
     ]
    }
   ],
   "source": [
    "df = pd.read_csv('Car_Insurance_Claim.csv') #reading database\n",
    "df.info() #also print out Dtypes"
   ]
  },
  {
   "cell_type": "code",
   "execution_count": 3,
   "id": "1f197ed9",
   "metadata": {},
   "outputs": [
    {
     "data": {
      "text/html": [
       "<div>\n",
       "<style scoped>\n",
       "    .dataframe tbody tr th:only-of-type {\n",
       "        vertical-align: middle;\n",
       "    }\n",
       "\n",
       "    .dataframe tbody tr th {\n",
       "        vertical-align: top;\n",
       "    }\n",
       "\n",
       "    .dataframe thead th {\n",
       "        text-align: right;\n",
       "    }\n",
       "</style>\n",
       "<table border=\"1\" class=\"dataframe\">\n",
       "  <thead>\n",
       "    <tr style=\"text-align: right;\">\n",
       "      <th></th>\n",
       "      <th>ID</th>\n",
       "      <th>AGE</th>\n",
       "      <th>GENDER</th>\n",
       "      <th>RACE</th>\n",
       "      <th>DRIVING_EXPERIENCE</th>\n",
       "      <th>EDUCATION</th>\n",
       "      <th>INCOME</th>\n",
       "      <th>CREDIT_SCORE</th>\n",
       "      <th>VEHICLE_OWNERSHIP</th>\n",
       "      <th>VEHICLE_YEAR</th>\n",
       "      <th>MARRIED</th>\n",
       "      <th>CHILDREN</th>\n",
       "      <th>POSTAL_CODE</th>\n",
       "      <th>ANNUAL_MILEAGE</th>\n",
       "      <th>VEHICLE_TYPE</th>\n",
       "      <th>SPEEDING_VIOLATIONS</th>\n",
       "      <th>DUIS</th>\n",
       "      <th>PAST_ACCIDENTS</th>\n",
       "      <th>OUTCOME</th>\n",
       "    </tr>\n",
       "  </thead>\n",
       "  <tbody>\n",
       "    <tr>\n",
       "      <th>0</th>\n",
       "      <td>569520</td>\n",
       "      <td>65+</td>\n",
       "      <td>female</td>\n",
       "      <td>majority</td>\n",
       "      <td>0-9y</td>\n",
       "      <td>high school</td>\n",
       "      <td>upper class</td>\n",
       "      <td>0.629027</td>\n",
       "      <td>1.0</td>\n",
       "      <td>after 2015</td>\n",
       "      <td>0.0</td>\n",
       "      <td>1.0</td>\n",
       "      <td>10238</td>\n",
       "      <td>12000.0</td>\n",
       "      <td>sedan</td>\n",
       "      <td>0</td>\n",
       "      <td>0</td>\n",
       "      <td>0</td>\n",
       "      <td>0.0</td>\n",
       "    </tr>\n",
       "    <tr>\n",
       "      <th>1</th>\n",
       "      <td>750365</td>\n",
       "      <td>16-25</td>\n",
       "      <td>male</td>\n",
       "      <td>majority</td>\n",
       "      <td>0-9y</td>\n",
       "      <td>none</td>\n",
       "      <td>poverty</td>\n",
       "      <td>0.357757</td>\n",
       "      <td>0.0</td>\n",
       "      <td>before 2015</td>\n",
       "      <td>0.0</td>\n",
       "      <td>0.0</td>\n",
       "      <td>10238</td>\n",
       "      <td>16000.0</td>\n",
       "      <td>sedan</td>\n",
       "      <td>0</td>\n",
       "      <td>0</td>\n",
       "      <td>0</td>\n",
       "      <td>1.0</td>\n",
       "    </tr>\n",
       "    <tr>\n",
       "      <th>2</th>\n",
       "      <td>199901</td>\n",
       "      <td>16-25</td>\n",
       "      <td>female</td>\n",
       "      <td>majority</td>\n",
       "      <td>0-9y</td>\n",
       "      <td>high school</td>\n",
       "      <td>working class</td>\n",
       "      <td>0.493146</td>\n",
       "      <td>1.0</td>\n",
       "      <td>before 2015</td>\n",
       "      <td>0.0</td>\n",
       "      <td>0.0</td>\n",
       "      <td>10238</td>\n",
       "      <td>11000.0</td>\n",
       "      <td>sedan</td>\n",
       "      <td>0</td>\n",
       "      <td>0</td>\n",
       "      <td>0</td>\n",
       "      <td>0.0</td>\n",
       "    </tr>\n",
       "    <tr>\n",
       "      <th>3</th>\n",
       "      <td>478866</td>\n",
       "      <td>16-25</td>\n",
       "      <td>male</td>\n",
       "      <td>majority</td>\n",
       "      <td>0-9y</td>\n",
       "      <td>university</td>\n",
       "      <td>working class</td>\n",
       "      <td>0.206013</td>\n",
       "      <td>1.0</td>\n",
       "      <td>before 2015</td>\n",
       "      <td>0.0</td>\n",
       "      <td>1.0</td>\n",
       "      <td>32765</td>\n",
       "      <td>11000.0</td>\n",
       "      <td>sedan</td>\n",
       "      <td>0</td>\n",
       "      <td>0</td>\n",
       "      <td>0</td>\n",
       "      <td>0.0</td>\n",
       "    </tr>\n",
       "    <tr>\n",
       "      <th>4</th>\n",
       "      <td>731664</td>\n",
       "      <td>26-39</td>\n",
       "      <td>male</td>\n",
       "      <td>majority</td>\n",
       "      <td>10-19y</td>\n",
       "      <td>none</td>\n",
       "      <td>working class</td>\n",
       "      <td>0.388366</td>\n",
       "      <td>1.0</td>\n",
       "      <td>before 2015</td>\n",
       "      <td>0.0</td>\n",
       "      <td>0.0</td>\n",
       "      <td>32765</td>\n",
       "      <td>12000.0</td>\n",
       "      <td>sedan</td>\n",
       "      <td>2</td>\n",
       "      <td>0</td>\n",
       "      <td>1</td>\n",
       "      <td>1.0</td>\n",
       "    </tr>\n",
       "  </tbody>\n",
       "</table>\n",
       "</div>"
      ],
      "text/plain": [
       "       ID    AGE  GENDER      RACE DRIVING_EXPERIENCE    EDUCATION  \\\n",
       "0  569520    65+  female  majority               0-9y  high school   \n",
       "1  750365  16-25    male  majority               0-9y         none   \n",
       "2  199901  16-25  female  majority               0-9y  high school   \n",
       "3  478866  16-25    male  majority               0-9y   university   \n",
       "4  731664  26-39    male  majority             10-19y         none   \n",
       "\n",
       "          INCOME  CREDIT_SCORE  VEHICLE_OWNERSHIP VEHICLE_YEAR  MARRIED  \\\n",
       "0    upper class      0.629027                1.0   after 2015      0.0   \n",
       "1        poverty      0.357757                0.0  before 2015      0.0   \n",
       "2  working class      0.493146                1.0  before 2015      0.0   \n",
       "3  working class      0.206013                1.0  before 2015      0.0   \n",
       "4  working class      0.388366                1.0  before 2015      0.0   \n",
       "\n",
       "   CHILDREN  POSTAL_CODE  ANNUAL_MILEAGE VEHICLE_TYPE  SPEEDING_VIOLATIONS  \\\n",
       "0       1.0        10238         12000.0        sedan                    0   \n",
       "1       0.0        10238         16000.0        sedan                    0   \n",
       "2       0.0        10238         11000.0        sedan                    0   \n",
       "3       1.0        32765         11000.0        sedan                    0   \n",
       "4       0.0        32765         12000.0        sedan                    2   \n",
       "\n",
       "   DUIS  PAST_ACCIDENTS  OUTCOME  \n",
       "0     0               0      0.0  \n",
       "1     0               0      1.0  \n",
       "2     0               0      0.0  \n",
       "3     0               0      0.0  \n",
       "4     0               1      1.0  "
      ]
     },
     "execution_count": 3,
     "metadata": {},
     "output_type": "execute_result"
    }
   ],
   "source": [
    "df.head() #show the abstract database"
   ]
  },
  {
   "cell_type": "code",
   "execution_count": 4,
   "id": "d832a8a5",
   "metadata": {},
   "outputs": [],
   "source": [
    "#i will not use ID, POSTAL_CODE for predictions, so i remove these columns\n",
    "df.drop([\"ID\"], axis = 1, inplace = True)\n",
    "df.drop([\"POSTAL_CODE\"], axis = 1, inplace = True)"
   ]
  },
  {
   "cell_type": "code",
   "execution_count": 5,
   "id": "0ec1b4aa",
   "metadata": {},
   "outputs": [
    {
     "data": {
      "text/html": [
       "<div>\n",
       "<style scoped>\n",
       "    .dataframe tbody tr th:only-of-type {\n",
       "        vertical-align: middle;\n",
       "    }\n",
       "\n",
       "    .dataframe tbody tr th {\n",
       "        vertical-align: top;\n",
       "    }\n",
       "\n",
       "    .dataframe thead th {\n",
       "        text-align: right;\n",
       "    }\n",
       "</style>\n",
       "<table border=\"1\" class=\"dataframe\">\n",
       "  <thead>\n",
       "    <tr style=\"text-align: right;\">\n",
       "      <th></th>\n",
       "      <th>AGE</th>\n",
       "      <th>GENDER</th>\n",
       "      <th>RACE</th>\n",
       "      <th>DRIVING_EXPERIENCE</th>\n",
       "      <th>EDUCATION</th>\n",
       "      <th>INCOME</th>\n",
       "      <th>CREDIT_SCORE</th>\n",
       "      <th>VEHICLE_OWNERSHIP</th>\n",
       "      <th>VEHICLE_YEAR</th>\n",
       "      <th>MARRIED</th>\n",
       "      <th>CHILDREN</th>\n",
       "      <th>ANNUAL_MILEAGE</th>\n",
       "      <th>VEHICLE_TYPE</th>\n",
       "      <th>SPEEDING_VIOLATIONS</th>\n",
       "      <th>DUIS</th>\n",
       "      <th>PAST_ACCIDENTS</th>\n",
       "      <th>OUTCOME</th>\n",
       "    </tr>\n",
       "  </thead>\n",
       "  <tbody>\n",
       "    <tr>\n",
       "      <th>0</th>\n",
       "      <td>65+</td>\n",
       "      <td>female</td>\n",
       "      <td>majority</td>\n",
       "      <td>0-9y</td>\n",
       "      <td>high school</td>\n",
       "      <td>upper class</td>\n",
       "      <td>0.629027</td>\n",
       "      <td>1.0</td>\n",
       "      <td>after 2015</td>\n",
       "      <td>0.0</td>\n",
       "      <td>1.0</td>\n",
       "      <td>12000.0</td>\n",
       "      <td>sedan</td>\n",
       "      <td>0</td>\n",
       "      <td>0</td>\n",
       "      <td>0</td>\n",
       "      <td>0.0</td>\n",
       "    </tr>\n",
       "    <tr>\n",
       "      <th>1</th>\n",
       "      <td>16-25</td>\n",
       "      <td>male</td>\n",
       "      <td>majority</td>\n",
       "      <td>0-9y</td>\n",
       "      <td>none</td>\n",
       "      <td>poverty</td>\n",
       "      <td>0.357757</td>\n",
       "      <td>0.0</td>\n",
       "      <td>before 2015</td>\n",
       "      <td>0.0</td>\n",
       "      <td>0.0</td>\n",
       "      <td>16000.0</td>\n",
       "      <td>sedan</td>\n",
       "      <td>0</td>\n",
       "      <td>0</td>\n",
       "      <td>0</td>\n",
       "      <td>1.0</td>\n",
       "    </tr>\n",
       "    <tr>\n",
       "      <th>2</th>\n",
       "      <td>16-25</td>\n",
       "      <td>female</td>\n",
       "      <td>majority</td>\n",
       "      <td>0-9y</td>\n",
       "      <td>high school</td>\n",
       "      <td>working class</td>\n",
       "      <td>0.493146</td>\n",
       "      <td>1.0</td>\n",
       "      <td>before 2015</td>\n",
       "      <td>0.0</td>\n",
       "      <td>0.0</td>\n",
       "      <td>11000.0</td>\n",
       "      <td>sedan</td>\n",
       "      <td>0</td>\n",
       "      <td>0</td>\n",
       "      <td>0</td>\n",
       "      <td>0.0</td>\n",
       "    </tr>\n",
       "    <tr>\n",
       "      <th>3</th>\n",
       "      <td>16-25</td>\n",
       "      <td>male</td>\n",
       "      <td>majority</td>\n",
       "      <td>0-9y</td>\n",
       "      <td>university</td>\n",
       "      <td>working class</td>\n",
       "      <td>0.206013</td>\n",
       "      <td>1.0</td>\n",
       "      <td>before 2015</td>\n",
       "      <td>0.0</td>\n",
       "      <td>1.0</td>\n",
       "      <td>11000.0</td>\n",
       "      <td>sedan</td>\n",
       "      <td>0</td>\n",
       "      <td>0</td>\n",
       "      <td>0</td>\n",
       "      <td>0.0</td>\n",
       "    </tr>\n",
       "    <tr>\n",
       "      <th>4</th>\n",
       "      <td>26-39</td>\n",
       "      <td>male</td>\n",
       "      <td>majority</td>\n",
       "      <td>10-19y</td>\n",
       "      <td>none</td>\n",
       "      <td>working class</td>\n",
       "      <td>0.388366</td>\n",
       "      <td>1.0</td>\n",
       "      <td>before 2015</td>\n",
       "      <td>0.0</td>\n",
       "      <td>0.0</td>\n",
       "      <td>12000.0</td>\n",
       "      <td>sedan</td>\n",
       "      <td>2</td>\n",
       "      <td>0</td>\n",
       "      <td>1</td>\n",
       "      <td>1.0</td>\n",
       "    </tr>\n",
       "  </tbody>\n",
       "</table>\n",
       "</div>"
      ],
      "text/plain": [
       "     AGE  GENDER      RACE DRIVING_EXPERIENCE    EDUCATION         INCOME  \\\n",
       "0    65+  female  majority               0-9y  high school    upper class   \n",
       "1  16-25    male  majority               0-9y         none        poverty   \n",
       "2  16-25  female  majority               0-9y  high school  working class   \n",
       "3  16-25    male  majority               0-9y   university  working class   \n",
       "4  26-39    male  majority             10-19y         none  working class   \n",
       "\n",
       "   CREDIT_SCORE  VEHICLE_OWNERSHIP VEHICLE_YEAR  MARRIED  CHILDREN  \\\n",
       "0      0.629027                1.0   after 2015      0.0       1.0   \n",
       "1      0.357757                0.0  before 2015      0.0       0.0   \n",
       "2      0.493146                1.0  before 2015      0.0       0.0   \n",
       "3      0.206013                1.0  before 2015      0.0       1.0   \n",
       "4      0.388366                1.0  before 2015      0.0       0.0   \n",
       "\n",
       "   ANNUAL_MILEAGE VEHICLE_TYPE  SPEEDING_VIOLATIONS  DUIS  PAST_ACCIDENTS  \\\n",
       "0         12000.0        sedan                    0     0               0   \n",
       "1         16000.0        sedan                    0     0               0   \n",
       "2         11000.0        sedan                    0     0               0   \n",
       "3         11000.0        sedan                    0     0               0   \n",
       "4         12000.0        sedan                    2     0               1   \n",
       "\n",
       "   OUTCOME  \n",
       "0      0.0  \n",
       "1      1.0  \n",
       "2      0.0  \n",
       "3      0.0  \n",
       "4      1.0  "
      ]
     },
     "execution_count": 5,
     "metadata": {},
     "output_type": "execute_result"
    }
   ],
   "source": [
    "df.head() #check"
   ]
  },
  {
   "cell_type": "code",
   "execution_count": 6,
   "id": "3f3938a8",
   "metadata": {},
   "outputs": [
    {
     "data": {
      "text/plain": [
       "1939"
      ]
     },
     "execution_count": 6,
     "metadata": {},
     "output_type": "execute_result"
    }
   ],
   "source": [
    "df.isnull().sum().sum() # count how many null values there are"
   ]
  },
  {
   "cell_type": "code",
   "execution_count": 7,
   "id": "766d7aec",
   "metadata": {},
   "outputs": [
    {
     "data": {
      "text/plain": [
       "AGE                      0\n",
       "GENDER                   0\n",
       "RACE                     0\n",
       "DRIVING_EXPERIENCE       0\n",
       "EDUCATION                0\n",
       "INCOME                   0\n",
       "CREDIT_SCORE           982\n",
       "VEHICLE_OWNERSHIP        0\n",
       "VEHICLE_YEAR             0\n",
       "MARRIED                  0\n",
       "CHILDREN                 0\n",
       "ANNUAL_MILEAGE         957\n",
       "VEHICLE_TYPE             0\n",
       "SPEEDING_VIOLATIONS      0\n",
       "DUIS                     0\n",
       "PAST_ACCIDENTS           0\n",
       "OUTCOME                  0\n",
       "dtype: int64"
      ]
     },
     "execution_count": 7,
     "metadata": {},
     "output_type": "execute_result"
    }
   ],
   "source": [
    "df.isnull().sum() # credit_score and annual_mileage has null values"
   ]
  },
  {
   "cell_type": "code",
   "execution_count": 8,
   "id": "766e1a09",
   "metadata": {},
   "outputs": [
    {
     "data": {
      "text/plain": [
       "0.5158128096027941"
      ]
     },
     "execution_count": 8,
     "metadata": {},
     "output_type": "execute_result"
    }
   ],
   "source": [
    "np.mean(df[\"CREDIT_SCORE\"]) #check mean value for credit score"
   ]
  },
  {
   "cell_type": "code",
   "execution_count": 9,
   "id": "1ff00b30",
   "metadata": {},
   "outputs": [
    {
     "data": {
      "text/plain": [
       "11697.003206900365"
      ]
     },
     "execution_count": 9,
     "metadata": {},
     "output_type": "execute_result"
    }
   ],
   "source": [
    "np.mean(df[\"ANNUAL_MILEAGE\"]) #check mean value for annual mileage"
   ]
  },
  {
   "cell_type": "code",
   "execution_count": 10,
   "id": "842ff9f7",
   "metadata": {},
   "outputs": [],
   "source": [
    "df[\"CREDIT_SCORE\"] = df[\"CREDIT_SCORE\"].fillna(np.mean(df[\"CREDIT_SCORE\"]))\n",
    "df[\"ANNUAL_MILEAGE\"] = df[\"ANNUAL_MILEAGE\"].fillna(int(np.mean(df[\"ANNUAL_MILEAGE\"])))\n",
    "#fill null values with mean"
   ]
  },
  {
   "cell_type": "code",
   "execution_count": 11,
   "id": "92813111",
   "metadata": {},
   "outputs": [
    {
     "data": {
      "text/plain": [
       "AGE                    0\n",
       "GENDER                 0\n",
       "RACE                   0\n",
       "DRIVING_EXPERIENCE     0\n",
       "EDUCATION              0\n",
       "INCOME                 0\n",
       "CREDIT_SCORE           0\n",
       "VEHICLE_OWNERSHIP      0\n",
       "VEHICLE_YEAR           0\n",
       "MARRIED                0\n",
       "CHILDREN               0\n",
       "ANNUAL_MILEAGE         0\n",
       "VEHICLE_TYPE           0\n",
       "SPEEDING_VIOLATIONS    0\n",
       "DUIS                   0\n",
       "PAST_ACCIDENTS         0\n",
       "OUTCOME                0\n",
       "dtype: int64"
      ]
     },
     "execution_count": 11,
     "metadata": {},
     "output_type": "execute_result"
    }
   ],
   "source": [
    "df.isnull().sum() #check if all null values were filled in"
   ]
  },
  {
   "cell_type": "code",
   "execution_count": 12,
   "id": "fa562b11",
   "metadata": {},
   "outputs": [],
   "source": [
    "#this block is to transform the values to be suitable for training purposes\n",
    "df[\"GENDER\"] = LabelEncoder().fit_transform(df[\"GENDER\"])\n",
    "df[\"VEHICLE_TYPE\"] = LabelEncoder().fit_transform(df[\"VEHICLE_TYPE\"])\n",
    "df[\"VEHICLE_YEAR\"] = LabelEncoder().fit_transform(df[\"VEHICLE_YEAR\"])\n",
    "df[\"AGE\"] = LabelEncoder().fit_transform(df[\"AGE\"])\n",
    "df[\"DRIVING_EXPERIENCE\"] = LabelEncoder().fit_transform(df[\"DRIVING_EXPERIENCE\"])\n",
    "df[\"EDUCATION\"] = LabelEncoder().fit_transform(df[\"EDUCATION\"])\n",
    "df[\"INCOME\"] = LabelEncoder().fit_transform(df[\"INCOME\"])\n",
    "df[\"RACE\"] = LabelEncoder().fit_transform(df[\"RACE\"])"
   ]
  },
  {
   "cell_type": "code",
   "execution_count": 13,
   "id": "7bed387b",
   "metadata": {},
   "outputs": [
    {
     "name": "stdout",
     "output_type": "stream",
     "text": [
      "<class 'pandas.core.frame.DataFrame'>\n",
      "RangeIndex: 10000 entries, 0 to 9999\n",
      "Data columns (total 17 columns):\n",
      " #   Column               Non-Null Count  Dtype  \n",
      "---  ------               --------------  -----  \n",
      " 0   AGE                  10000 non-null  int32  \n",
      " 1   GENDER               10000 non-null  int32  \n",
      " 2   RACE                 10000 non-null  int32  \n",
      " 3   DRIVING_EXPERIENCE   10000 non-null  int32  \n",
      " 4   EDUCATION            10000 non-null  int32  \n",
      " 5   INCOME               10000 non-null  int32  \n",
      " 6   CREDIT_SCORE         10000 non-null  float64\n",
      " 7   VEHICLE_OWNERSHIP    10000 non-null  float64\n",
      " 8   VEHICLE_YEAR         10000 non-null  int32  \n",
      " 9   MARRIED              10000 non-null  float64\n",
      " 10  CHILDREN             10000 non-null  float64\n",
      " 11  ANNUAL_MILEAGE       10000 non-null  float64\n",
      " 12  VEHICLE_TYPE         10000 non-null  int32  \n",
      " 13  SPEEDING_VIOLATIONS  10000 non-null  int64  \n",
      " 14  DUIS                 10000 non-null  int64  \n",
      " 15  PAST_ACCIDENTS       10000 non-null  int64  \n",
      " 16  OUTCOME              10000 non-null  float64\n",
      "dtypes: float64(6), int32(8), int64(3)\n",
      "memory usage: 1015.8 KB\n"
     ]
    }
   ],
   "source": [
    "df.info() #check dtypes"
   ]
  },
  {
   "cell_type": "code",
   "execution_count": 14,
   "id": "37b2db72",
   "metadata": {},
   "outputs": [
    {
     "data": {
      "text/html": [
       "<div>\n",
       "<style scoped>\n",
       "    .dataframe tbody tr th:only-of-type {\n",
       "        vertical-align: middle;\n",
       "    }\n",
       "\n",
       "    .dataframe tbody tr th {\n",
       "        vertical-align: top;\n",
       "    }\n",
       "\n",
       "    .dataframe thead th {\n",
       "        text-align: right;\n",
       "    }\n",
       "</style>\n",
       "<table border=\"1\" class=\"dataframe\">\n",
       "  <thead>\n",
       "    <tr style=\"text-align: right;\">\n",
       "      <th></th>\n",
       "      <th>AGE</th>\n",
       "      <th>GENDER</th>\n",
       "      <th>RACE</th>\n",
       "      <th>DRIVING_EXPERIENCE</th>\n",
       "      <th>EDUCATION</th>\n",
       "      <th>INCOME</th>\n",
       "      <th>CREDIT_SCORE</th>\n",
       "      <th>VEHICLE_OWNERSHIP</th>\n",
       "      <th>VEHICLE_YEAR</th>\n",
       "      <th>MARRIED</th>\n",
       "      <th>CHILDREN</th>\n",
       "      <th>ANNUAL_MILEAGE</th>\n",
       "      <th>VEHICLE_TYPE</th>\n",
       "      <th>SPEEDING_VIOLATIONS</th>\n",
       "      <th>DUIS</th>\n",
       "      <th>PAST_ACCIDENTS</th>\n",
       "      <th>OUTCOME</th>\n",
       "    </tr>\n",
       "  </thead>\n",
       "  <tbody>\n",
       "    <tr>\n",
       "      <th>0</th>\n",
       "      <td>3</td>\n",
       "      <td>0</td>\n",
       "      <td>0</td>\n",
       "      <td>0</td>\n",
       "      <td>0</td>\n",
       "      <td>2</td>\n",
       "      <td>0.629027</td>\n",
       "      <td>1.0</td>\n",
       "      <td>0</td>\n",
       "      <td>0.0</td>\n",
       "      <td>1.0</td>\n",
       "      <td>12000.0</td>\n",
       "      <td>0</td>\n",
       "      <td>0</td>\n",
       "      <td>0</td>\n",
       "      <td>0</td>\n",
       "      <td>0.0</td>\n",
       "    </tr>\n",
       "    <tr>\n",
       "      <th>1</th>\n",
       "      <td>0</td>\n",
       "      <td>1</td>\n",
       "      <td>0</td>\n",
       "      <td>0</td>\n",
       "      <td>1</td>\n",
       "      <td>1</td>\n",
       "      <td>0.357757</td>\n",
       "      <td>0.0</td>\n",
       "      <td>1</td>\n",
       "      <td>0.0</td>\n",
       "      <td>0.0</td>\n",
       "      <td>16000.0</td>\n",
       "      <td>0</td>\n",
       "      <td>0</td>\n",
       "      <td>0</td>\n",
       "      <td>0</td>\n",
       "      <td>1.0</td>\n",
       "    </tr>\n",
       "    <tr>\n",
       "      <th>2</th>\n",
       "      <td>0</td>\n",
       "      <td>0</td>\n",
       "      <td>0</td>\n",
       "      <td>0</td>\n",
       "      <td>0</td>\n",
       "      <td>3</td>\n",
       "      <td>0.493146</td>\n",
       "      <td>1.0</td>\n",
       "      <td>1</td>\n",
       "      <td>0.0</td>\n",
       "      <td>0.0</td>\n",
       "      <td>11000.0</td>\n",
       "      <td>0</td>\n",
       "      <td>0</td>\n",
       "      <td>0</td>\n",
       "      <td>0</td>\n",
       "      <td>0.0</td>\n",
       "    </tr>\n",
       "    <tr>\n",
       "      <th>3</th>\n",
       "      <td>0</td>\n",
       "      <td>1</td>\n",
       "      <td>0</td>\n",
       "      <td>0</td>\n",
       "      <td>2</td>\n",
       "      <td>3</td>\n",
       "      <td>0.206013</td>\n",
       "      <td>1.0</td>\n",
       "      <td>1</td>\n",
       "      <td>0.0</td>\n",
       "      <td>1.0</td>\n",
       "      <td>11000.0</td>\n",
       "      <td>0</td>\n",
       "      <td>0</td>\n",
       "      <td>0</td>\n",
       "      <td>0</td>\n",
       "      <td>0.0</td>\n",
       "    </tr>\n",
       "    <tr>\n",
       "      <th>4</th>\n",
       "      <td>1</td>\n",
       "      <td>1</td>\n",
       "      <td>0</td>\n",
       "      <td>1</td>\n",
       "      <td>1</td>\n",
       "      <td>3</td>\n",
       "      <td>0.388366</td>\n",
       "      <td>1.0</td>\n",
       "      <td>1</td>\n",
       "      <td>0.0</td>\n",
       "      <td>0.0</td>\n",
       "      <td>12000.0</td>\n",
       "      <td>0</td>\n",
       "      <td>2</td>\n",
       "      <td>0</td>\n",
       "      <td>1</td>\n",
       "      <td>1.0</td>\n",
       "    </tr>\n",
       "  </tbody>\n",
       "</table>\n",
       "</div>"
      ],
      "text/plain": [
       "   AGE  GENDER  RACE  DRIVING_EXPERIENCE  EDUCATION  INCOME  CREDIT_SCORE  \\\n",
       "0    3       0     0                   0          0       2      0.629027   \n",
       "1    0       1     0                   0          1       1      0.357757   \n",
       "2    0       0     0                   0          0       3      0.493146   \n",
       "3    0       1     0                   0          2       3      0.206013   \n",
       "4    1       1     0                   1          1       3      0.388366   \n",
       "\n",
       "   VEHICLE_OWNERSHIP  VEHICLE_YEAR  MARRIED  CHILDREN  ANNUAL_MILEAGE  \\\n",
       "0                1.0             0      0.0       1.0         12000.0   \n",
       "1                0.0             1      0.0       0.0         16000.0   \n",
       "2                1.0             1      0.0       0.0         11000.0   \n",
       "3                1.0             1      0.0       1.0         11000.0   \n",
       "4                1.0             1      0.0       0.0         12000.0   \n",
       "\n",
       "   VEHICLE_TYPE  SPEEDING_VIOLATIONS  DUIS  PAST_ACCIDENTS  OUTCOME  \n",
       "0             0                    0     0               0      0.0  \n",
       "1             0                    0     0               0      1.0  \n",
       "2             0                    0     0               0      0.0  \n",
       "3             0                    0     0               0      0.0  \n",
       "4             0                    2     0               1      1.0  "
      ]
     },
     "execution_count": 14,
     "metadata": {},
     "output_type": "execute_result"
    }
   ],
   "source": [
    "df.head() #processed dataset"
   ]
  },
  {
   "cell_type": "code",
   "execution_count": 15,
   "id": "1e78153d",
   "metadata": {},
   "outputs": [],
   "source": [
    "x_train, x_test, y_train, y_test = train_test_split(df.iloc[ : , : -1], df.iloc[ : , -1], train_size = .6, random_state = 1)\n",
    "#prepare dataset for training\n",
    "#included scaler as it gives better accuracy\n",
    "x_train = StandardScaler().fit_transform(x_train)\n",
    "x_test = StandardScaler().fit_transform(x_test)"
   ]
  },
  {
   "cell_type": "code",
   "execution_count": 16,
   "id": "3c62391e",
   "metadata": {},
   "outputs": [
    {
     "name": "stdout",
     "output_type": "stream",
     "text": [
      "accuracy of logistic regression is:  0.8445\n"
     ]
    }
   ],
   "source": [
    "#logistic regression\n",
    "model = LogisticRegression(max_iter=2000)\n",
    "model.fit(x_train,y_train)\n",
    "predicted=model.predict(x_test)\n",
    "print(\"accuracy of logistic regression is: \",accuracy_score(y_test, predicted))\n",
    "a1=accuracy_score(y_test, predicted)"
   ]
  },
  {
   "cell_type": "code",
   "execution_count": 17,
   "id": "f9fed10a",
   "metadata": {},
   "outputs": [
    {
     "name": "stdout",
     "output_type": "stream",
     "text": [
      "Confusion matrix\n",
      "\n",
      " [[2463  303]\n",
      " [ 319  915]]\n"
     ]
    },
    {
     "data": {
      "image/png": "[encoded data removed]",
      "text/plain": [
       "<Figure size 432x288 with 2 Axes>"
      ]
     },
     "metadata": {
      "needs_background": "light"
     },
     "output_type": "display_data"
    }
   ],
   "source": [
    "#confusion matrix for logistic regression\n",
    "y_pred = model.predict(x_test)\n",
    "cf_matrix = confusion_matrix(y_test, y_pred)\n",
    "print('Confusion matrix\\n\\n', cf_matrix)\n",
    "sns.heatmap(cf_matrix, annot=True, fmt='d', cmap='Greens')\n",
    "a2=cf_matrix"
   ]
  },
  {
   "cell_type": "code",
   "execution_count": 18,
   "id": "f140c6fe",
   "metadata": {},
   "outputs": [
    {
     "name": "stdout",
     "output_type": "stream",
     "text": [
      "              precision    recall  f1-score   support\n",
      "\n",
      "         0.0       0.89      0.89      0.89      2766\n",
      "         1.0       0.75      0.74      0.75      1234\n",
      "\n",
      "    accuracy                           0.84      4000\n",
      "   macro avg       0.82      0.82      0.82      4000\n",
      "weighted avg       0.84      0.84      0.84      4000\n",
      "\n"
     ]
    }
   ],
   "source": [
    "#classification report for logistic regression model\n",
    "print(classification_report(y_test, y_pred))\n",
    "a3=classification_report(y_test, y_pred)"
   ]
  },
  {
   "cell_type": "code",
   "execution_count": 19,
   "id": "558cd10e",
   "metadata": {},
   "outputs": [
    {
     "name": "stdout",
     "output_type": "stream",
     "text": [
      "Cross-validation scores:[0.8425     0.84833333 0.8375     0.85166667 0.81166667]\n",
      "Average cross-validation score: 0.838\n"
     ]
    }
   ],
   "source": [
    "#cross validation for logistic regression model\n",
    "score = cross_val_score(model, x_train, y_train, cv = 5, scoring='accuracy')\n",
    "print('Cross-validation scores:{}'.format(score))\n",
    "print('Average cross-validation score: {:.3f}'.format(score.mean()))\n",
    "a4=score"
   ]
  },
  {
   "cell_type": "code",
   "execution_count": 20,
   "id": "01804b64",
   "metadata": {},
   "outputs": [],
   "source": [
    "#knn classifier\n",
    "model = KNeighborsClassifier(n_neighbors = 5)\n",
    "model.fit(x_train, y_train)\n",
    "predicted=model.predict(x_test)\n",
    "a5=accuracy_score(y_test, predicted)"
   ]
  },
  {
   "cell_type": "code",
   "execution_count": 21,
   "id": "86f67c7a",
   "metadata": {},
   "outputs": [
    {
     "name": "stdout",
     "output_type": "stream",
     "text": [
      "Accuracy of knn is:  0.811\n"
     ]
    }
   ],
   "source": [
    "print(\"Accuracy of knn is: \", accuracy_score(y_test, predicted))"
   ]
  },
  {
   "cell_type": "code",
   "execution_count": 22,
   "id": "ebb13316",
   "metadata": {},
   "outputs": [
    {
     "name": "stdout",
     "output_type": "stream",
     "text": [
      "Confusion matrix\n",
      "\n",
      " [[2427  339]\n",
      " [ 417  817]]\n"
     ]
    },
    {
     "data": {
      "image/png": "[encoded data removed]",
      "text/plain": [
       "<Figure size 432x288 with 2 Axes>"
      ]
     },
     "metadata": {
      "needs_background": "light"
     },
     "output_type": "display_data"
    }
   ],
   "source": [
    "#confusion matrix for knn\n",
    "y_pred = model.predict(x_test)\n",
    "cf_matrix = confusion_matrix(y_test, y_pred)\n",
    "print('Confusion matrix\\n\\n', cf_matrix)\n",
    "sns.heatmap(cf_matrix, annot=True, fmt='d', cmap='Greens')\n",
    "a6=cf_matrix"
   ]
  },
  {
   "cell_type": "code",
   "execution_count": 23,
   "id": "6c70a05e",
   "metadata": {},
   "outputs": [
    {
     "name": "stdout",
     "output_type": "stream",
     "text": [
      "              precision    recall  f1-score   support\n",
      "\n",
      "         0.0       0.85      0.88      0.87      2766\n",
      "         1.0       0.71      0.66      0.68      1234\n",
      "\n",
      "    accuracy                           0.81      4000\n",
      "   macro avg       0.78      0.77      0.77      4000\n",
      "weighted avg       0.81      0.81      0.81      4000\n",
      "\n"
     ]
    }
   ],
   "source": [
    "#classification report for knn model\n",
    "print(classification_report(y_test, y_pred))\n",
    "a7=classification_report(y_test, y_pred)"
   ]
  },
  {
   "cell_type": "code",
   "execution_count": 24,
   "id": "5020f7b2",
   "metadata": {},
   "outputs": [
    {
     "name": "stdout",
     "output_type": "stream",
     "text": [
      "Cross-validation scores:[0.79       0.815      0.8        0.79416667 0.79583333]\n",
      "Average cross-validation score: 0.799\n"
     ]
    }
   ],
   "source": [
    "#cross validation for knn model\n",
    "score = cross_val_score(model, x_train, y_train, cv = 5, scoring='accuracy')\n",
    "print('Cross-validation scores:{}'.format(score))\n",
    "print('Average cross-validation score: {:.3f}'.format(score.mean()))\n",
    "a8=score"
   ]
  },
  {
   "cell_type": "code",
   "execution_count": 25,
   "id": "74053655",
   "metadata": {},
   "outputs": [
    {
     "name": "stdout",
     "output_type": "stream",
     "text": [
      "Testing score: 0.833\n",
      "Training score: 0.868\n"
     ]
    }
   ],
   "source": [
    "#neural network\n",
    "model = MLPClassifier(random_state=0)\n",
    "model.fit(x_train, y_train)\n",
    "score= model.score(x_test, y_test)\n",
    "a9=score\n",
    "print('Testing score: {:.3f}'.format(score))\n",
    "score = model.score(x_train, y_train)\n",
    "a10=score\n",
    "print(\"Training score: {:.3f}\".format(score))"
   ]
  },
  {
   "cell_type": "code",
   "execution_count": 26,
   "id": "c0ff404b",
   "metadata": {},
   "outputs": [
    {
     "name": "stdout",
     "output_type": "stream",
     "text": [
      "Confusion matrix\n",
      "\n",
      " [[2440  326]\n",
      " [ 342  892]]\n"
     ]
    },
    {
     "data": {
      "image/png": "[encoded data removed]",
      "text/plain": [
       "<Figure size 432x288 with 2 Axes>"
      ]
     },
     "metadata": {
      "needs_background": "light"
     },
     "output_type": "display_data"
    }
   ],
   "source": [
    "#confusion matrix for neural network model\n",
    "y_pred = model.predict(x_test)\n",
    "cf_matrix = confusion_matrix(y_test, y_pred)\n",
    "print('Confusion matrix\\n\\n', cf_matrix)\n",
    "sns.heatmap(cf_matrix, annot=True, fmt='d', cmap='Greens')\n",
    "a11=cf_matrix"
   ]
  },
  {
   "cell_type": "code",
   "execution_count": 27,
   "id": "0cb3009f",
   "metadata": {},
   "outputs": [
    {
     "name": "stdout",
     "output_type": "stream",
     "text": [
      "              precision    recall  f1-score   support\n",
      "\n",
      "         0.0       0.88      0.88      0.88      2766\n",
      "         1.0       0.73      0.72      0.73      1234\n",
      "\n",
      "    accuracy                           0.83      4000\n",
      "   macro avg       0.80      0.80      0.80      4000\n",
      "weighted avg       0.83      0.83      0.83      4000\n",
      "\n"
     ]
    }
   ],
   "source": [
    "#classification report for neural network model\n",
    "print(classification_report(y_test, y_pred))\n",
    "a12=classification_report(y_test, y_pred)"
   ]
  },
  {
   "cell_type": "code",
   "execution_count": 28,
   "id": "0e08abae",
   "metadata": {},
   "outputs": [
    {
     "name": "stdout",
     "output_type": "stream",
     "text": [
      "Cross-validation scores:[0.81166667 0.83833333 0.825      0.83083333 0.8125    ]\n",
      "Average cross-validation score: 0.824\n"
     ]
    }
   ],
   "source": [
    "#cross validation for neural network model\n",
    "score = cross_val_score(model, x_train, y_train, cv = 5, scoring='accuracy')\n",
    "print('Cross-validation scores:{}'.format(score))\n",
    "print('Average cross-validation score: {:.3f}'.format(score.mean()))\n",
    "a13=score"
   ]
  },
  {
   "cell_type": "code",
   "execution_count": 29,
   "id": "eb2df525",
   "metadata": {},
   "outputs": [
    {
     "name": "stdout",
     "output_type": "stream",
     "text": [
      "---Evaluation---\n",
      "Accuracy:\n",
      "Accuracy of logistic regression is:  0.8445\n",
      "Accuracy of knn is:  0.811\n",
      "Neural network Testing score: 0.833\n",
      "Neural network Training score: 0.868\n",
      "----------------\n",
      "Confusion matrix\n",
      "Logistic regression\n",
      "[[2463  303]\n",
      " [ 319  915]]\n",
      "KNN classifier\n",
      "[[2427  339]\n",
      " [ 417  817]]\n",
      "Neural network\n",
      "[[2440  326]\n",
      " [ 342  892]]\n",
      "----------------\n",
      "Classification report\n",
      "Logistic regression\n",
      "              precision    recall  f1-score   support\n",
      "\n",
      "         0.0       0.89      0.89      0.89      2766\n",
      "         1.0       0.75      0.74      0.75      1234\n",
      "\n",
      "    accuracy                           0.84      4000\n",
      "   macro avg       0.82      0.82      0.82      4000\n",
      "weighted avg       0.84      0.84      0.84      4000\n",
      "\n",
      "KNN classifier\n",
      "              precision    recall  f1-score   support\n",
      "\n",
      "         0.0       0.85      0.88      0.87      2766\n",
      "         1.0       0.71      0.66      0.68      1234\n",
      "\n",
      "    accuracy                           0.81      4000\n",
      "   macro avg       0.78      0.77      0.77      4000\n",
      "weighted avg       0.81      0.81      0.81      4000\n",
      "\n",
      "Neural network\n",
      "              precision    recall  f1-score   support\n",
      "\n",
      "         0.0       0.88      0.88      0.88      2766\n",
      "         1.0       0.73      0.72      0.73      1234\n",
      "\n",
      "    accuracy                           0.83      4000\n",
      "   macro avg       0.80      0.80      0.80      4000\n",
      "weighted avg       0.83      0.83      0.83      4000\n",
      "\n",
      "----------------\n",
      "Cross validation\n",
      "Logistic regression\n",
      "[0.8425     0.84833333 0.8375     0.85166667 0.81166667]\n",
      "0.8383333333333333\n",
      "KNN classifier\n",
      "[0.79       0.815      0.8        0.79416667 0.79583333]\n",
      "0.799\n",
      "Neural network\n",
      "[0.81166667 0.83833333 0.825      0.83083333 0.8125    ]\n",
      "0.8236666666666667\n",
      "----------------\n"
     ]
    }
   ],
   "source": [
    "#simplified view for evaluation\n",
    "print(\"---Evaluation---\")\n",
    "print(\"Accuracy:\")\n",
    "print(\"Accuracy of logistic regression is: \",a1)\n",
    "print(\"Accuracy of knn is: \", a5)\n",
    "print('Neural network Testing score: {:.3f}'.format(a9))\n",
    "print(\"Neural network Training score: {:.3f}\".format(a10))\n",
    "print(\"----------------\")\n",
    "print(\"Confusion matrix\")\n",
    "print(\"Logistic regression\")\n",
    "print(a2)\n",
    "print(\"KNN classifier\")\n",
    "print(a6)\n",
    "print(\"Neural network\")\n",
    "print(a11)\n",
    "print(\"----------------\")\n",
    "print(\"Classification report\")\n",
    "print(\"Logistic regression\")\n",
    "print(a3)\n",
    "print(\"KNN classifier\")\n",
    "print(a7)\n",
    "print(\"Neural network\")\n",
    "print(a12)\n",
    "print(\"----------------\")\n",
    "print(\"Cross validation\")\n",
    "print(\"Logistic regression\")\n",
    "print(a4)\n",
    "print(a4.mean())\n",
    "print(\"KNN classifier\")\n",
    "print(a8)\n",
    "print(a8.mean())\n",
    "print(\"Neural network\")\n",
    "print(a13)\n",
    "print(a13.mean())\n",
    "print(\"----------------\")"
   ]
  },
  {
   "cell_type": "code",
   "execution_count": null,
   "id": "3ab91102",
   "metadata": {},
   "outputs": [],
   "source": []
  }
 ],
 "metadata": {
  "kernelspec": {
   "display_name": "Python 3 (ipykernel)",
   "language": "python",
   "name": "python3"
  },
  "language_info": {
   "codemirror_mode": {
    "name": "ipython",
    "version": 3
   },
   "file_extension": ".py",
   "mimetype": "text/x-python",
   "name": "python",
   "nbconvert_exporter": "python",
   "pygments_lexer": "ipython3",
   "version": "3.9.7"
  }
 },
 "nbformat": 4,
 "nbformat_minor": 5
}
